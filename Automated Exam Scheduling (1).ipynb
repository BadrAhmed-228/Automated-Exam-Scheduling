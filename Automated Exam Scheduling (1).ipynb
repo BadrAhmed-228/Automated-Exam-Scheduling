{
 "cells": [
  {
   "cell_type": "code",
   "execution_count": 1,
   "id": "e67fa359-176a-439e-a387-8f9017670b42",
   "metadata": {},
   "outputs": [],
   "source": [
    "import pandas as pd\n",
    "import networkx as nx\n",
    "from itertools import combinations\n",
    "import matplotlib.pyplot as plt\n",
    "import time"
   ]
  },
  {
   "cell_type": "code",
   "execution_count": 2,
   "id": "6557cca9-13ee-4abd-80f2-6430850d12d1",
   "metadata": {},
   "outputs": [
    {
     "name": "stdout",
     "output_type": "stream",
     "text": [
      "Available sheets in the Excel file:\n",
      "1. علوم طبية \n",
      "2. صيدلة وطب اسنان\n",
      "3. العلوم الادارية\n",
      "4. الهندسة\n",
      "5. حاسب الي\n",
      "\n",
      "Using sheet: 'حاسب الي'\n"
     ]
    }
   ],
   "source": [
    "# read excel file using variable sheet_name to access the sheet i want \n",
    "file_path = \"C:\\\\Users\\\\pc\\\\Downloads\\\\studentcourses (edited).xlsx\"\n",
    "\n",
    "# Get all sheet names\n",
    "xl = pd.ExcelFile(file_path)\n",
    "sheet_names = xl.sheet_names\n",
    "print(\"Available sheets in the Excel file:\")\n",
    "for i, name in enumerate(sheet_names, 1): # enumerate used to get the index and the value from list together\n",
    "    print(f\"{i}. {name}\")\n",
    "    \n",
    "sheet_name = sheet_names[4]  # Using the sheet i want to use in the list \n",
    "print(f\"\\nUsing sheet: '{sheet_name}'\")\n",
    "\n",
    "df = pd.read_excel(file_path, sheet_name=sheet_name)"
   ]
  },
  {
   "cell_type": "code",
   "execution_count": 3,
   "id": "0110a8b7-28a8-4aa7-9163-7df274a4478a",
   "metadata": {},
   "outputs": [
    {
     "name": "stderr",
     "output_type": "stream",
     "text": [
      "C:\\Users\\pc\\AppData\\Local\\Temp\\ipykernel_9700\\4046373133.py:4: SettingWithCopyWarning: \n",
      "A value is trying to be set on a copy of a slice from a DataFrame\n",
      "\n",
      "See the caveats in the documentation: https://pandas.pydata.org/pandas-docs/stable/user_guide/indexing.html#returning-a-view-versus-a-copy\n",
      "  df_clean.dropna(inplace=True)\n"
     ]
    }
   ],
   "source": [
    "# Keep only StudentID, CourseName, and CRN\n",
    "df_clean = df.iloc[:, [0, 2, 6]]\n",
    "df_clean.columns = [\"StudentID\", \"CourseName\", \"CRN\"]\n",
    "df_clean.dropna(inplace=True)"
   ]
  },
  {
   "cell_type": "code",
   "execution_count": 4,
   "id": "a3699618-8b8f-48e4-a47f-d83b2d6e4637",
   "metadata": {},
   "outputs": [],
   "source": [
    "# Build the conflict graph\n",
    "G = nx.Graph()"
   ]
  },
  {
   "cell_type": "code",
   "execution_count": 5,
   "id": "f1da3d1b-76ef-489e-9037-53bb31a00ebd",
   "metadata": {},
   "outputs": [
    {
     "name": "stdout",
     "output_type": "stream",
     "text": [
      "StudentID\n",
      "1101321002                    [113114, 113107, 113121, 211430]\n",
      "1301311010    [115252, 111238, 111304, 115224, 115181, 114203]\n",
      "1305322014            [115174, 111121, 115171, 114182, 114191]\n",
      "1305331021            [113114, 113134, 113107, 113127, 211430]\n",
      "1401301022            [215189, 115187, 215184, 115177, 115190]\n",
      "                                    ...                       \n",
      "1502331007                            [213113, 213108, 111306]\n",
      "1502331008            [215173, 211306, 215172, 214181, 215218]\n",
      "1502331009                    [113113, 113108, 113122, 211430]\n",
      "1502331015            [113113, 113133, 113108, 113128, 211430]\n",
      "1502331017                    [113133, 111382, 113128, 113122]\n",
      "Name: CRN, Length: 156, dtype: object\n"
     ]
    }
   ],
   "source": [
    "# Group courses by student\n",
    "student_courses = df_clean.groupby(\"StudentID\")[\"CRN\"].apply(list)\n",
    "\n",
    "print(student_courses)"
   ]
  },
  {
   "cell_type": "code",
   "execution_count": 6,
   "id": "d299a5c5-b9c9-4c07-b94b-9a157aac4b82",
   "metadata": {},
   "outputs": [],
   "source": [
    "# Create edges between conflicting courses (taken by same student)\n",
    "for courses in student_courses:\n",
    "    for course1, course2 in combinations(courses, 2):\n",
    "        if course1 != course2:\n",
    "            if G.has_edge(course1, course2):\n",
    "                G[course1][course2]['weight'] += 1\n",
    "            else:\n",
    "                G.add_edge(course1, course2, weight=1)"
   ]
  },
  {
   "cell_type": "code",
   "execution_count": 7,
   "id": "4528654c-5975-4517-8962-f1002903dc12",
   "metadata": {},
   "outputs": [],
   "source": [
    "# Add isolated courses (no conflicts)\n",
    "all_courses = df_clean[\"CRN\"].unique()\n",
    "G.add_nodes_from(all_courses)\n"
   ]
  },
  {
   "cell_type": "code",
   "execution_count": 8,
   "id": "30d0939c-1c90-4099-b031-c0f5e5523b7e",
   "metadata": {},
   "outputs": [
    {
     "data": {
      "image/png": "[encoded data removed]",
      "text/plain": [
       "<Figure size 640x480 with 1 Axes>"
      ]
     },
     "metadata": {},
     "output_type": "display_data"
    }
   ],
   "source": [
    "# Draw the graph\n",
    "pos = nx.spring_layout(G, seed=42)  # Layout algorithm\n",
    "nx.draw_networkx(\n",
    "    G,\n",
    "    pos = pos,\n",
    "    with_labels = False,\n",
    "    node_size = 20,\n",
    "    node_color = \"lightblue\",\n",
    "    edge_color = \"gray\",\n",
    "    font_size = 8,\n",
    "    font_weight = \"bold\",\n",
    ")\n",
    "\n",
    "plt.title(\"Course Conflict Graph\", fontsize=14)\n",
    "plt.axis(\"off\")  # Hide axes\n",
    "plt.tight_layout()\n",
    "plt.show()"
   ]
  },
  {
   "cell_type": "code",
   "execution_count": null,
   "id": "a3c63a57-5170-4e6b-9c15-770b90389546",
   "metadata": {},
   "outputs": [],
   "source": [
    "print(\"Graph created with\", len(G.nodes), \"courses and\", len(G.edges), \"conflicts.\")"
   ]
  },
  {
   "cell_type": "code",
   "execution_count": null,
   "id": "cc8bc2df-505c-42bd-baea-61ba009d115a",
   "metadata": {
    "scrolled": true
   },
   "outputs": [],
   "source": [
    "# Number of students per course\n",
    "course_counts = df_clean.groupby(\"CRN\")[\"StudentID\"].nunique()\n",
    "course_counts.name = \"NumStudents\"\n",
    "\n",
    "print(course_counts)"
   ]
  },
  {
   "cell_type": "code",
   "execution_count": null,
   "id": "4f8e2ec6-8c58-4c5a-9ba9-ac4f3e481038",
   "metadata": {},
   "outputs": [],
   "source": [
    "# Degree of each course in the graph (number of conflicts)\n",
    "course_degrees = pd.Series(dict(G.degree()), name=\"Degree\").sort_values(ascending = False)\n",
    "\n",
    "print(course_degrees)"
   ]
  },
  {
   "cell_type": "code",
   "execution_count": null,
   "id": "d7945a2d-1957-4db2-b382-57baef51034c",
   "metadata": {},
   "outputs": [],
   "source": [
    "# compare between strategies\n",
    "def compare_coloring_strategies(G):\n",
    "    strategies = [\n",
    "        'largest_first',\n",
    "        'smallest_last',\n",
    "        'saturation_largest_first'\n",
    "    ]\n",
    "    \n",
    "    results = {}\n",
    "\n",
    "    for strategy in strategies:\n",
    "        start_time = time.time()\n",
    "        coloring = nx.coloring.greedy_color(G, strategy=strategy)\n",
    "        end_time = time.time()\n",
    "        num_colors = len(set(coloring.values()))\n",
    "        elapsed_time = end_time - start_time\n",
    "        results[strategy] = {\n",
    "            \"coloring\": coloring,\n",
    "            \"num_colors\": num_colors,\n",
    "            \"elapsed_time\": elapsed_time\n",
    "        }\n",
    "\n",
    "    return results"
   ]
  },
  {
   "cell_type": "code",
   "execution_count": null,
   "id": "77afa15d-6fa2-4531-9395-ce2eedc85813",
   "metadata": {},
   "outputs": [],
   "source": [
    "# Run and compare strategies\n",
    "coloring_results = compare_coloring_strategies(G)\n",
    "\n",
    "# Show comparison results\n",
    "print(\"Coloring strategy comparison results:\")\n",
    "for strategy, result in coloring_results.items():\n",
    "    print(f\"Strategy: {strategy}\")\n",
    "    print(f\"  Number of colors (time slots): {result['num_colors']}\")\n",
    "    print(f\"  Elapsed time: {result['elapsed_time']:.4f} seconds\\n\")\n",
    "\n",
    "# Pick the best (least number of slots)\n",
    "best_strategy = min(coloring_results, key=lambda x: coloring_results[x]['num_colors'])\n",
    "best_coloring = coloring_results[best_strategy]['coloring']\n",
    "\n",
    "print(f\"✅ Best strategy: {best_strategy} with {coloring_results[best_strategy]['num_colors']} slots\")\n"
   ]
  },
  {
   "cell_type": "code",
   "execution_count": null,
   "id": "bee7d7d7-d40e-4dea-9297-c1c6b764cf6e",
   "metadata": {},
   "outputs": [],
   "source": [
    "# Plot top 10 courses enrolled by students\n",
    "course_counts.sort_values(ascending=False).head(10).plot(kind='bar', title='Top 10 Courses enrolled by Students')\n",
    "plt.ylabel(\"Number of Students\")\n",
    "plt.xlabel(\"Course (CRN)\")\n",
    "plt.tight_layout()\n",
    "plt.show()"
   ]
  },
  {
   "cell_type": "code",
   "execution_count": null,
   "id": "6138a308-9a76-4c6a-bfe6-795c04d472dd",
   "metadata": {},
   "outputs": [],
   "source": [
    "# Plot top 10 courses by degree\n",
    "course_degrees.sort_values(ascending=False).head(10).plot(kind='bar', title='Top 10 Courses by Conflict Degree', color='orange')\n",
    "plt.ylabel(\"Number of Conflicts\")\n",
    "plt.xlabel(\"Course (CRN)\")\n",
    "plt.tight_layout()\n",
    "plt.show()"
   ]
  },
  {
   "cell_type": "code",
   "execution_count": null,
   "id": "8d26434d-d84c-4624-ab0d-fc962fce1662",
   "metadata": {},
   "outputs": [],
   "source": [
    "# Apply graph coloring for scheduling (Greedy coloring)\n",
    "coloring = nx.coloring.greedy_color(G, strategy='saturation_largest_first') # produce dictionary for time slots\n",
    "\n",
    "print(coloring)"
   ]
  },
  {
   "cell_type": "code",
   "execution_count": null,
   "id": "2f0da9d4-98ff-4b5d-a659-396af8d3d9d5",
   "metadata": {},
   "outputs": [],
   "source": [
    "# Invert the coloring dict: group courses by time slot\n",
    "from collections import defaultdict\n",
    "\n",
    "slot_courses = defaultdict(list)\n",
    "for course, slot in coloring.items():\n",
    "    slot_courses[slot].append(course)"
   ]
  },
  {
   "cell_type": "code",
   "execution_count": null,
   "id": "ee5e8d9a-b9d9-4e04-b5e5-5aa165520451",
   "metadata": {},
   "outputs": [],
   "source": [
    "# Create final timetable dataframe\n",
    "timetable = []\n",
    "for slot, courses in slot_courses.items():\n",
    "    for course in courses:\n",
    "        name = df_clean[df_clean[\"CRN\"] == course][\"CourseName\"].iloc[0]\n",
    "        num_students = course_counts[course]\n",
    "        timetable.append({\n",
    "            \"CourseName\": name,\n",
    "            \"CRN\": course,\n",
    "            \"ExamSlot\": slot + 1,\n",
    "            \"NumStudents\": num_students\n",
    "        })\n",
    "\n",
    "timetable_df = pd.DataFrame(timetable)\n",
    "timetable_df = timetable_df.sort_values(by = \"ExamSlot\")"
   ]
  },
  {
   "cell_type": "code",
   "execution_count": null,
   "id": "bad65675-09ef-49f2-9a76-74b6f6ce2043",
   "metadata": {},
   "outputs": [],
   "source": [
    "# Export to Excel\n",
    "output_file = \"exams_timetable.xlsx\"\n",
    "timetable_df.to_excel(output_file, index=False)\n",
    "print(\"Timetable saved to:\", output_file, \" successfully 🥲🥹\")"
   ]
  }
 ],
 "metadata": {
  "kernelspec": {
   "display_name": "Python 3 (ipykernel)",
   "language": "python",
   "name": "python3"
  },
  "language_info": {
   "codemirror_mode": {
    "name": "ipython",
    "version": 3
   },
   "file_extension": ".py",
   "mimetype": "text/x-python",
   "name": "python",
   "nbconvert_exporter": "python",
   "pygments_lexer": "ipython3",
   "version": "3.12.7"
  }
 },
 "nbformat": 4,
 "nbformat_minor": 5
}
